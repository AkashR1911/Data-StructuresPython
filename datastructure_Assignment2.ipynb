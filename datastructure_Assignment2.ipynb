{
  "nbformat": 4,
  "nbformat_minor": 0,
  "metadata": {
    "colab": {
      "provenance": []
    },
    "kernelspec": {
      "name": "python3",
      "display_name": "Python 3"
    },
    "language_info": {
      "name": "python"
    }
  },
  "cells": [
    {
      "cell_type": "code",
      "execution_count": null,
      "metadata": {
        "id": "m-8A_axGUXuB"
      },
      "outputs": [],
      "source": [
        "\"\"\"\n",
        "1. What are data structures, and why are they important?\n",
        "As the name suggest Data structures allows to organize and store data for efficient access and modification.\n",
        "They are essential because they help in optimizing code performance, managing large datasets, and solving problems effectively\n",
        "\n",
        "2. Explain the difference between mutable and immutable data types with examples\n",
        "mutabale data types states that where the data sets can get change after creating it\n",
        "a=[1,2] a.append(3)\n",
        "a=[1,2,3] it will allow us to make change\n",
        "whweras in immutable data types the data can't be chamged once created, it is genreally created to store unchange or private data\n",
        "a=\"hello\"\n",
        "a(0)=H error\n",
        "\n",
        "3. What are the main differences between lists and tuples in Python?\n",
        "Main difference between list and tuple is list is mutable whereas tuple are immutable\n",
        "\n",
        "4. Describe how dictionaries store data\n",
        "Dictinories store data in key value pairs\n",
        "a={\"name\": \"Akash Rawat\",\"MOno\": 9630968387}\n",
        "\n",
        "5. Why might you use a set instead of a list in Python\n",
        "set only allows to store unique value and it automaticaly removes the duplicate values whereas list can't do that\n",
        "\n",
        "6. What is a string in Python, and how is it different from a list\n",
        "string is sequence of characters which is immutable it is different from list because it is immutable and can't hold data types\n",
        "\n",
        "7. How do tuples ensure data integrity in Python?\n",
        "tuples are immutable which means once created no one can change it which helps in data integrity which prevents data modification\n",
        "\n",
        "8.What is a hash table, and how does it relate to dictionaries in Python?\n",
        "hash table is data struture which store data is key vaue pairs hash function converts the key\n",
        "in index that's why it relates to dictonaries because it laos stores data in key value pairs\n",
        "\n",
        "9. Can lists contain different data types in Python?\n",
        "Python list can hold multiple data types as list is a ordered collection\n",
        "\n",
        "10. Explain why strings are immutable in Python?\n",
        "strings are sequence of characters which is immutable it is different from list because it is immutable and can't hold data types\n",
        "\n",
        "11. What advantages do dictionaries offer over lists for certain tasks?\n",
        "dictionaries have key value pairs and we can access the data only by key which makes it faster than list\n",
        "\n",
        "12.Describe a scenario where using a tuple would be preferable over a list?\n",
        "tuple are immutable so it can be used for storing fix data or constant data tuple can alos be used to create key in dictionaries\n",
        "\n",
        "13. How do sets handle duplicate values in Python?\n",
        "sets are unordered collection and only have have unique values they automatically remove duplictae values from the sets\n",
        "\n",
        "14. How does the “in” keyword work differently for lists and dictionaries?\n",
        "With list \"in\" keyword checjs the value whereas in dictonaries it only checks key instead of values\n",
        "\n",
        "15. Can you modify the elements of a tuple? Explain why or why not?\n",
        "No we can't modify the elements of a tuple because it is immutable\n",
        "\n",
        "16.What is a nested dictionary, and give an example of its use case?\n",
        "in nested dictionary it conatins a dictionary inside a dictionary\n",
        "user={\"Akash\":{\"age\":23,\"Address\": ee-97 DDnagar}}\n",
        "\n",
        "17. Describe the time complexity of accessing elements in a dictionary\n",
        "i dont know the concept of time complexity\n",
        "\n",
        "18. In what situations are lists preferred over dictionaries\n",
        "when we don't need key value pairs or when we have duplicate data to store in list\n",
        "\n",
        "19. Why are dictionaries considered unordered, and how does that affect data retrieval\n",
        "\n",
        "\n",
        "20.Explain the difference between a list and a dictionary in terms of data retrieval\n",
        "in list data is retrieved by index value whereas in dictnories data is retrieved by key value\n",
        "ex. my_list = [1, 2, 3, 4, 5]\n",
        "my_dict = {'a': 1, 'b': 2, 'c': 3}\n",
        "my_list[2]  # Output: 3\n",
        "my_dict['c']  # Output: 3\n",
        "\"\"\""
      ]
    },
    {
      "cell_type": "code",
      "source": [
        "# 1.Write a code to create a string with your name and print it\n",
        "a=\"Akash\"\n",
        "print(a)\n"
      ],
      "metadata": {
        "colab": {
          "base_uri": "https://localhost:8080/"
        },
        "id": "MCM4QWis8VLT",
        "outputId": "e5ccee74-d1c2-471c-cc64-560ddde02d99"
      },
      "execution_count": 1,
      "outputs": [
        {
          "output_type": "stream",
          "name": "stdout",
          "text": [
            "Akash\n"
          ]
        }
      ]
    },
    {
      "cell_type": "code",
      "source": [
        "# 2.Write a code to find the length of the string \"Hello World\"\n",
        "a=\"Hello World\"\n",
        "print(len(a))"
      ],
      "metadata": {
        "colab": {
          "base_uri": "https://localhost:8080/"
        },
        "id": "f8SeLz2Q8plY",
        "outputId": "4886fc7d-97dd-4f99-f702-2ac4175efa77"
      },
      "execution_count": 2,
      "outputs": [
        {
          "output_type": "stream",
          "name": "stdout",
          "text": [
            "11\n"
          ]
        }
      ]
    },
    {
      "cell_type": "code",
      "source": [
        "# 3. Write a code to slice the first 3 characters from the string \"Python Programming\"\n",
        "a= \"Python Programming\"\n",
        "a[:3]\n"
      ],
      "metadata": {
        "colab": {
          "base_uri": "https://localhost:8080/",
          "height": 35
        },
        "id": "a7Wf1z5283lB",
        "outputId": "fd2e2393-1899-4dc3-f549-389c21187da3"
      },
      "execution_count": 10,
      "outputs": [
        {
          "output_type": "execute_result",
          "data": {
            "text/plain": [
              "'Pyt'"
            ],
            "application/vnd.google.colaboratory.intrinsic+json": {
              "type": "string"
            }
          },
          "metadata": {},
          "execution_count": 10
        }
      ]
    },
    {
      "cell_type": "code",
      "source": [
        "# 4. Write a code to convert the string \"hello\" to uppercase\n",
        "a=\"akash\"\n",
        "print(a.upper())\n"
      ],
      "metadata": {
        "colab": {
          "base_uri": "https://localhost:8080/"
        },
        "id": "9bvWmoGW9C01",
        "outputId": "9d50bf26-a4be-46b3-ca8c-fee70c65d37e"
      },
      "execution_count": 13,
      "outputs": [
        {
          "output_type": "stream",
          "name": "stdout",
          "text": [
            "AKASH\n"
          ]
        }
      ]
    },
    {
      "cell_type": "code",
      "source": [
        "# 5.Write a code to replace the word \"apple\" with \"orange\" in the string \"I like apple\"\n",
        "a=\"I like apple\"\n",
        "print(a.replace(\"apple\",\"orange\"))"
      ],
      "metadata": {
        "colab": {
          "base_uri": "https://localhost:8080/"
        },
        "id": "VfDtoaDj-QHc",
        "outputId": "7458a0a7-d078-435f-82bd-78493b28c95f"
      },
      "execution_count": 14,
      "outputs": [
        {
          "output_type": "stream",
          "name": "stdout",
          "text": [
            "I like orange\n"
          ]
        }
      ]
    },
    {
      "cell_type": "code",
      "source": [
        "# 6.Write a code to create a list with numbers 1 to 5 and print itP\n",
        "numbers=[1,2,3,4,5]\n",
        "print(numbers)"
      ],
      "metadata": {
        "colab": {
          "base_uri": "https://localhost:8080/"
        },
        "id": "MnPuAs6w-jw_",
        "outputId": "715b3d14-82be-4656-8cdd-e05f66a41309"
      },
      "execution_count": 15,
      "outputs": [
        {
          "output_type": "stream",
          "name": "stdout",
          "text": [
            "[1, 2, 3, 4, 5]\n"
          ]
        }
      ]
    },
    {
      "cell_type": "code",
      "source": [
        "# 7.Write a code to append the number 10 to the list [1, 2, 3, 4]\n",
        "a=[1,2,3,4]\n",
        "a.append(10)\n",
        "print(a)"
      ],
      "metadata": {
        "colab": {
          "base_uri": "https://localhost:8080/"
        },
        "id": "1I1nuhbP-td1",
        "outputId": "88555bbb-11a2-4624-e416-a60d9eb7c33d"
      },
      "execution_count": 19,
      "outputs": [
        {
          "output_type": "stream",
          "name": "stdout",
          "text": [
            "[1, 2, 3, 4, 10]\n"
          ]
        }
      ]
    },
    {
      "cell_type": "code",
      "source": [
        "# 8.Write a code to remove the number 3 from the list [1, 2, 3, 4, 5]\n",
        "a=[1,2,3,4,5]\n",
        "a.remove(3)\n",
        "print(a)"
      ],
      "metadata": {
        "colab": {
          "base_uri": "https://localhost:8080/"
        },
        "id": "ZPHMMwOQ-5I0",
        "outputId": "2f22b1c7-ee9e-4bab-adc1-2882f1d7d084"
      },
      "execution_count": 21,
      "outputs": [
        {
          "output_type": "stream",
          "name": "stdout",
          "text": [
            "[1, 2, 4, 5]\n"
          ]
        }
      ]
    },
    {
      "cell_type": "code",
      "source": [
        "# 9.Write a code to access the second element in the list ['a', 'b', 'c', 'd']\n",
        "a=[\"a\",\"b\",\"c\",\"d\"]\n",
        "print(a[1])"
      ],
      "metadata": {
        "colab": {
          "base_uri": "https://localhost:8080/"
        },
        "id": "d7zAb5mw_zJX",
        "outputId": "f0b7c68c-2539-4a0d-ce1a-fa6124867f95"
      },
      "execution_count": 22,
      "outputs": [
        {
          "output_type": "stream",
          "name": "stdout",
          "text": [
            "b\n"
          ]
        }
      ]
    },
    {
      "cell_type": "code",
      "source": [
        "# 10.Write a code to reverse the list [10, 20, 30, 40, 50].\n",
        "a=[10,20,30,40,50]\n",
        "a.reverse()\n",
        "print(a)"
      ],
      "metadata": {
        "colab": {
          "base_uri": "https://localhost:8080/"
        },
        "id": "U719yez_AQmK",
        "outputId": "204bfefd-6f63-4e3a-d623-58a9b4545efd"
      },
      "execution_count": 27,
      "outputs": [
        {
          "output_type": "stream",
          "name": "stdout",
          "text": [
            "[50, 40, 30, 20, 10]\n"
          ]
        }
      ]
    },
    {
      "cell_type": "code",
      "source": [
        "# 11.Write a code to create a tuple with the elements 100, 200, 300 and print it.\n",
        "a=(100,200,300)\n",
        "print(a)"
      ],
      "metadata": {
        "colab": {
          "base_uri": "https://localhost:8080/"
        },
        "id": "cHFnPDujEmhR",
        "outputId": "c4aa8d40-33d0-48b5-a3af-b782e3a8e806"
      },
      "execution_count": 28,
      "outputs": [
        {
          "output_type": "stream",
          "name": "stdout",
          "text": [
            "(100, 200, 300)\n"
          ]
        }
      ]
    },
    {
      "cell_type": "code",
      "source": [
        "# 12.Write a code to access the second-to-last element of the tuple ('red', 'green', 'blue', 'yellow')\n",
        "a=('red', 'green', 'blue', 'yellow')\n",
        "print(a[-2])"
      ],
      "metadata": {
        "colab": {
          "base_uri": "https://localhost:8080/"
        },
        "id": "snIlAp5uE3a-",
        "outputId": "209863dc-368b-49c0-f61e-fd70b8740308"
      },
      "execution_count": 30,
      "outputs": [
        {
          "output_type": "stream",
          "name": "stdout",
          "text": [
            "blue\n"
          ]
        }
      ]
    },
    {
      "cell_type": "code",
      "source": [
        "# 13. Write a code to find the minimum number in the tuple (10, 20, 5, 15).\n",
        "a=(10,20,5,15)\n",
        "print(min(a))"
      ],
      "metadata": {
        "colab": {
          "base_uri": "https://localhost:8080/"
        },
        "id": "oU1SkdrHFWNp",
        "outputId": "721ac6ae-3370-4680-fb0f-be04a240f99e"
      },
      "execution_count": 33,
      "outputs": [
        {
          "output_type": "stream",
          "name": "stdout",
          "text": [
            "5\n"
          ]
        }
      ]
    },
    {
      "cell_type": "code",
      "source": [
        "# 14. Write a code to find the index of the element \"cat\" in the tuple ('dog', 'cat', 'rabbit').\n",
        "a=('dog', 'cat', 'rabbit')\n",
        "print(a.index(\"cat\"))"
      ],
      "metadata": {
        "colab": {
          "base_uri": "https://localhost:8080/"
        },
        "id": "Yh8FjCTQFre0",
        "outputId": "c347603c-a255-4621-a2bb-9e76a4b65507"
      },
      "execution_count": 34,
      "outputs": [
        {
          "output_type": "stream",
          "name": "stdout",
          "text": [
            "1\n"
          ]
        }
      ]
    },
    {
      "cell_type": "code",
      "source": [
        "# 15.Write a code to create a tuple containing three different fruits and check if \"kiwi\" is in it.\n",
        "fruits=(\"apple\",\"banana\",\"kiwi\")\n",
        "print(\"kiwi\" in fruits)"
      ],
      "metadata": {
        "colab": {
          "base_uri": "https://localhost:8080/"
        },
        "id": "Vdz31uThF4NG",
        "outputId": "fc62abf1-58c0-4274-bfd1-974615eb64f2"
      },
      "execution_count": 35,
      "outputs": [
        {
          "output_type": "stream",
          "name": "stdout",
          "text": [
            "True\n"
          ]
        }
      ]
    },
    {
      "cell_type": "code",
      "source": [
        "# 16.Write a code to create a set with the elements 'a', 'b', 'c' and print it.\n",
        "set={'a','b','c'}\n",
        "print(set)"
      ],
      "metadata": {
        "colab": {
          "base_uri": "https://localhost:8080/"
        },
        "id": "-fSVwqj5GEnq",
        "outputId": "bbee2823-c61d-4b9e-9235-0b0e09b4cf8d"
      },
      "execution_count": 36,
      "outputs": [
        {
          "output_type": "stream",
          "name": "stdout",
          "text": [
            "{'c', 'b', 'a'}\n"
          ]
        }
      ]
    },
    {
      "cell_type": "code",
      "source": [
        "# 17.Write a code to clear all elements from the set {1, 2, 3, 4, 5}.\n",
        "set={1,2,3,4,5}\n",
        "set.clear()\n",
        "print(set)"
      ],
      "metadata": {
        "colab": {
          "base_uri": "https://localhost:8080/"
        },
        "id": "rCT9_B9NGQJ7",
        "outputId": "258afdf8-12a0-4d11-a4de-f44f5ce170fe"
      },
      "execution_count": 37,
      "outputs": [
        {
          "output_type": "stream",
          "name": "stdout",
          "text": [
            "set()\n"
          ]
        }
      ]
    },
    {
      "cell_type": "code",
      "source": [
        "# 18.Write a code to remove the element 4 from the set {1, 2, 3, 4}.\n",
        "a={1,2,3,4}\n",
        "a.remove(4)\n",
        "print(set)"
      ],
      "metadata": {
        "colab": {
          "base_uri": "https://localhost:8080/"
        },
        "id": "ObdxtAiAGfY-",
        "outputId": "b1f5b42a-57cc-418b-b63b-24be589b7d34"
      },
      "execution_count": 66,
      "outputs": [
        {
          "output_type": "stream",
          "name": "stdout",
          "text": [
            "{1, 2, 3}\n"
          ]
        }
      ]
    },
    {
      "cell_type": "code",
      "source": [
        "# 19.Write a code to find the union of two sets {1, 2, 3} and {3, 4, 5}.\n",
        "a={1,2,3}\n",
        "b={3,4,5}\n",
        "print(a.union(b))"
      ],
      "metadata": {
        "colab": {
          "base_uri": "https://localhost:8080/"
        },
        "id": "gv3-m7QiGuYY",
        "outputId": "10320736-cc06-45c6-eaa2-effbd9bc5750"
      },
      "execution_count": 39,
      "outputs": [
        {
          "output_type": "stream",
          "name": "stdout",
          "text": [
            "{1, 2, 3, 4, 5}\n"
          ]
        }
      ]
    },
    {
      "cell_type": "code",
      "source": [
        "# 20.Write a code to find the intersection of two sets {1, 2, 3} and {2, 3, 4}.\n",
        "a={1,2,3}\n",
        "b={2,3,4}\n",
        "print(a.intersection(b))"
      ],
      "metadata": {
        "colab": {
          "base_uri": "https://localhost:8080/"
        },
        "id": "dll5CZChG-T6",
        "outputId": "a6cc4f94-44cd-4a32-d536-b1e2bf54847e"
      },
      "execution_count": 41,
      "outputs": [
        {
          "output_type": "stream",
          "name": "stdout",
          "text": [
            "{2, 3}\n"
          ]
        }
      ]
    },
    {
      "cell_type": "code",
      "source": [
        "# 21.Write a code to create a dictionary with the keys \"name\", \"age\", and \"city\", and print it.\n",
        "a={\"name\":\"Akash Rawat\",\"Age\":23,\"City\":\"Gwalior\"}\n",
        "type(a)\n",
        "print(a)\n",
        "print(a[\"name\"])\n"
      ],
      "metadata": {
        "colab": {
          "base_uri": "https://localhost:8080/"
        },
        "id": "7NucSR18HJ60",
        "outputId": "2a7617bf-309c-4064-af3a-8821fba00f00"
      },
      "execution_count": 44,
      "outputs": [
        {
          "output_type": "stream",
          "name": "stdout",
          "text": [
            "{'name': 'Akash Rawat', 'Age': 23, 'City': 'Gwalior'}\n",
            "Akash Rawat\n"
          ]
        }
      ]
    },
    {
      "cell_type": "code",
      "source": [
        "# 22.Write a code to add a new key-value pair \"country\": \"USA\" to the dictionary {'name': 'John', 'age': 25}.\n",
        "a={\"name\":\"John\",\"Age\":25}\n",
        "a[\"counry\"]=\"usa\"\n",
        "print(a)"
      ],
      "metadata": {
        "colab": {
          "base_uri": "https://localhost:8080/"
        },
        "id": "zqeaIEQUH2_y",
        "outputId": "08a57e07-e681-4744-b881-06c10cd55de1"
      },
      "execution_count": 45,
      "outputs": [
        {
          "output_type": "stream",
          "name": "stdout",
          "text": [
            "{'name': 'John', 'Age': 25, 'counry': 'usa'}\n"
          ]
        }
      ]
    },
    {
      "cell_type": "code",
      "source": [
        "# 23. Write a code to access the value associated with the key \"name\" in the dictionary {'name': 'Alice', 'age': 30}\n",
        "a={'name': 'Alice', 'age': 30}\n",
        "print(a[\"name\"])"
      ],
      "metadata": {
        "colab": {
          "base_uri": "https://localhost:8080/"
        },
        "id": "dVDDZhFUIQzq",
        "outputId": "d9a643d9-29d1-43d8-d484-76bcfef04bee"
      },
      "execution_count": 46,
      "outputs": [
        {
          "output_type": "stream",
          "name": "stdout",
          "text": [
            "Alice\n"
          ]
        }
      ]
    },
    {
      "cell_type": "code",
      "source": [
        "# 24.Write a code to remove the key \"age\" from the dictionary {'name': 'Bob', 'age': 22, 'city': 'New York'}\n",
        "a={'name': 'Bob', 'age': 22, 'city': 'New York'}\n",
        "del a[\"age\"]\n",
        "print(a)"
      ],
      "metadata": {
        "colab": {
          "base_uri": "https://localhost:8080/"
        },
        "id": "REs0LBHWIbg6",
        "outputId": "97607c8d-3922-4120-939d-e87c54cee73d"
      },
      "execution_count": 49,
      "outputs": [
        {
          "output_type": "stream",
          "name": "stdout",
          "text": [
            "{'name': 'Bob', 'city': 'New York'}\n"
          ]
        }
      ]
    },
    {
      "cell_type": "code",
      "source": [
        "# 25.Write a code to check if the key \"city\" exists in the dictionary {'name': 'Alice', 'city': 'Paris'}\n",
        "a={'name': 'Alice', 'city': 'Paris'}\n",
        "print(\"city\"in a)"
      ],
      "metadata": {
        "colab": {
          "base_uri": "https://localhost:8080/"
        },
        "id": "cDq0EbN9Iwqr",
        "outputId": "d207b3ed-623a-4537-9aa5-55640c98ec7d"
      },
      "execution_count": 50,
      "outputs": [
        {
          "output_type": "stream",
          "name": "stdout",
          "text": [
            "True\n"
          ]
        }
      ]
    },
    {
      "cell_type": "code",
      "source": [
        "# 26.Write a code to create a list, a tuple, and a dictionary, and print them all\n",
        "my_list = [1, 2, 3]\n",
        "my_tuple = (4, 5, 6)\n",
        "my_dict = {'a': 1, 'b': 2}\n",
        "print(my_list)\n",
        "print(my_tuple)\n",
        "print(my_dict)\n"
      ],
      "metadata": {
        "colab": {
          "base_uri": "https://localhost:8080/"
        },
        "id": "ROfufIxyJCPu",
        "outputId": "8c93ae46-3b22-4aaa-fd3f-15b64e9718cf"
      },
      "execution_count": 51,
      "outputs": [
        {
          "output_type": "stream",
          "name": "stdout",
          "text": [
            "[1, 2, 3]\n",
            "(4, 5, 6)\n",
            "{'a': 1, 'b': 2}\n"
          ]
        }
      ]
    },
    {
      "cell_type": "code",
      "source": [
        "# 27.Write a code to create a list of 5 random numbers between 1 and 100, sort it in ascending order, and print the result.(replaced)\n",
        "import random\n",
        "a=random.sample(range(1,101),5)\n",
        "a.sort()\n",
        "print(a)\n"
      ],
      "metadata": {
        "colab": {
          "base_uri": "https://localhost:8080/"
        },
        "id": "kvwzsJI4JMwg",
        "outputId": "6a42ff26-ebce-4a86-fc69-3a6f787245c9"
      },
      "execution_count": 53,
      "outputs": [
        {
          "output_type": "stream",
          "name": "stdout",
          "text": [
            "[16, 24, 27, 46, 79]\n"
          ]
        }
      ]
    },
    {
      "cell_type": "code",
      "source": [
        "# 28.Write a code to create a list with strings and print the element at the third index.\n",
        "a=[\"akash\",\"banana\",\"milk\",\"ajay\",\"bat\",\"rat\"]\n",
        "print(a[3])"
      ],
      "metadata": {
        "colab": {
          "base_uri": "https://localhost:8080/"
        },
        "id": "c_eOid_-J8pe",
        "outputId": "0d49dc02-3478-4b45-c81f-4a78595af213"
      },
      "execution_count": 54,
      "outputs": [
        {
          "output_type": "stream",
          "name": "stdout",
          "text": [
            "ajay\n"
          ]
        }
      ]
    },
    {
      "cell_type": "code",
      "source": [
        "\n",
        "# 29.Write a code to combine two dictionaries into one and print the result.\n",
        "a={\"name\":\"akash rawat\"}\n",
        "b={\"age\":23}\n",
        "a.update(b)\n",
        "print(a)"
      ],
      "metadata": {
        "colab": {
          "base_uri": "https://localhost:8080/"
        },
        "id": "2oFewBk9KSo0",
        "outputId": "974e8fc8-4fbc-46b2-ad2c-4fa2184005b3"
      },
      "execution_count": 71,
      "outputs": [
        {
          "output_type": "stream",
          "name": "stdout",
          "text": [
            "{'name': 'akash rawat', 'age': 23}\n"
          ]
        }
      ]
    },
    {
      "cell_type": "code",
      "source": [
        "# 30.Write a code to convert a list of strings into a set\n",
        "fruits = [\"apple\", \"banana\", \"cherry\", \"apple\", \"banana\"]\n",
        "unique_fruits = set(fruits)\n",
        "print(unique_fruits)"
      ],
      "metadata": {
        "id": "X-LK511yNcKa"
      },
      "execution_count": null,
      "outputs": []
    }
  ]
}